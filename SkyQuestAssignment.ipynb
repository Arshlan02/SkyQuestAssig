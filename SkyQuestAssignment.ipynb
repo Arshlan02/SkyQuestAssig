{
 "cells": [
  {
   "cell_type": "code",
   "execution_count": 51,
   "id": "5017c96c",
   "metadata": {},
   "outputs": [
    {
     "name": "stderr",
     "output_type": "stream",
     "text": [
      "/var/folders/pg/5gpr31sj7qzg0v5nh99sxkp00000gn/T/ipykernel_2482/2972241494.py:4: DeprecationWarning: executable_path has been deprecated, please pass in a Service object\n",
      "  driver = webdriver.Chrome(executable_path=PATH)\n"
     ]
    }
   ],
   "source": [
    "from selenium import webdriver\n",
    "\n",
    "PATH = \"/Users/arshlannadeem/Desktop/chromedriver\"\n",
    "driver = webdriver.Chrome(executable_path=PATH)\n",
    "\n",
    "driver.get('https://www.giiresearch.com/material_report.shtml')\n",
    "\n",
    "# print(http://selenium.dev)"
   ]
  },
  {
   "cell_type": "code",
   "execution_count": 58,
   "id": "e3780a06",
   "metadata": {},
   "outputs": [
    {
     "name": "stdout",
     "output_type": "stream",
     "text": [
      "['April 20, 2022', 'April 20, 2022', 'April 20, 2022', 'April 20, 2022', 'April 20, 2022', 'April 20, 2022', 'April 20, 2022', 'April 18, 2022', 'April 18, 2022', 'April 18, 2022', 'April 18, 2022', 'April 14, 2022', 'April 14, 2022', 'April 14, 2022', 'April 14, 2022', 'April 14, 2022', 'April 14, 2022', 'April 14, 2022', 'April 14, 2022', 'April 14, 2022', 'April 14, 2022', 'April 14, 2022', 'April 14, 2022', 'April 14, 2022', 'April 14, 2022']\n"
     ]
    },
    {
     "name": "stderr",
     "output_type": "stream",
     "text": [
      "/var/folders/pg/5gpr31sj7qzg0v5nh99sxkp00000gn/T/ipykernel_2482/2772730029.py:2: DeprecationWarning: find_elements_by_css_selector is deprecated. Please use find_elements(by=By.CSS_SELECTOR, value=css_selector) instead\n",
      "  listOfDates = driver.find_elements_by_css_selector('div.plist_dateinfo .plist_info_dd2')\n"
     ]
    }
   ],
   "source": [
    "# driver.find_element_by_class_name('plist_info_dd2')\n",
    "listOfDates = driver.find_elements_by_css_selector('div.plist_dateinfo .plist_info_dd2')\n",
    "desiredDate = []\n",
    "for ele in listOfDates:\n",
    "    desiredDate.append(ele.text)\n",
    "\n",
    "print(desiredDate)"
   ]
  },
  {
   "cell_type": "code",
   "execution_count": 53,
   "id": "b1af3a6a",
   "metadata": {},
   "outputs": [],
   "source": [
    "import pandas as pd"
   ]
  },
  {
   "cell_type": "code",
   "execution_count": 55,
   "id": "96552b59",
   "metadata": {},
   "outputs": [
    {
     "name": "stdout",
     "output_type": "stream",
     "text": [
      "                 0\n",
      "0   April 20, 2022\n",
      "1   April 20, 2022\n",
      "2   April 20, 2022\n",
      "3   April 20, 2022\n",
      "4   April 20, 2022\n",
      "5   April 20, 2022\n",
      "6   April 20, 2022\n",
      "7   April 18, 2022\n",
      "8   April 18, 2022\n",
      "9   April 18, 2022\n",
      "10  April 18, 2022\n",
      "11  April 14, 2022\n",
      "12  April 14, 2022\n",
      "13  April 14, 2022\n",
      "14  April 14, 2022\n",
      "15  April 14, 2022\n",
      "16  April 14, 2022\n",
      "17  April 14, 2022\n",
      "18  April 14, 2022\n",
      "19  April 14, 2022\n",
      "20  April 14, 2022\n",
      "21  April 14, 2022\n",
      "22  April 14, 2022\n",
      "23  April 14, 2022\n",
      "24  April 14, 2022\n"
     ]
    }
   ],
   "source": [
    "ansFile = pd.DataFrame(desiredDate)\n",
    "print(ansFile)\n",
    "ansFile.to_csv('arshalan.csv') "
   ]
  },
  {
   "cell_type": "code",
   "execution_count": null,
   "id": "1f556d85",
   "metadata": {},
   "outputs": [],
   "source": []
  }
 ],
 "metadata": {
  "kernelspec": {
   "display_name": "Python 3 (ipykernel)",
   "language": "python",
   "name": "python3"
  },
  "language_info": {
   "codemirror_mode": {
    "name": "ipython",
    "version": 3
   },
   "file_extension": ".py",
   "mimetype": "text/x-python",
   "name": "python",
   "nbconvert_exporter": "python",
   "pygments_lexer": "ipython3",
   "version": "3.9.10"
  }
 },
 "nbformat": 4,
 "nbformat_minor": 5
}
